{
 "cells": [
  {
   "cell_type": "markdown",
   "id": "ac0416ff",
   "metadata": {},
   "source": [
    "### Basic Flask Program"
   ]
  },
  {
   "cell_type": "code",
   "execution_count": null,
   "id": "18a5f18c",
   "metadata": {},
   "outputs": [],
   "source": [
    "from flask import Flask"
   ]
  },
  {
   "cell_type": "code",
   "execution_count": null,
   "id": "82601bb4",
   "metadata": {},
   "outputs": [],
   "source": [
    "app = Flask(__name__)\n",
    "\n",
    "@app.route('/')\n",
    "def home():\n",
    "    return \"Hello world !\"\n",
    "\n",
    "if __name__ == \"__main__\":\n",
    "    app.run()"
   ]
  },
  {
   "cell_type": "markdown",
   "id": "ef166a74",
   "metadata": {},
   "source": [
    "### Rendering Template"
   ]
  },
  {
   "cell_type": "code",
   "execution_count": null,
   "id": "6233c119",
   "metadata": {},
   "outputs": [],
   "source": [
    "from flask import Flask, render_template"
   ]
  },
  {
   "cell_type": "code",
   "execution_count": null,
   "id": "f79babfb",
   "metadata": {},
   "outputs": [],
   "source": [
    "app = Flask(__name__)\n",
    "\n",
    "@app.route('/base')\n",
    "def home():\n",
    "    return render_template(\"base.html\")\n",
    "\n",
    "if __name__ == '__main__':\n",
    "    app.run()"
   ]
  },
  {
   "cell_type": "markdown",
   "id": "ad584355",
   "metadata": {},
   "source": [
    "#### Adding a Variable to the Template"
   ]
  },
  {
   "cell_type": "code",
   "execution_count": null,
   "id": "2f9afaf5",
   "metadata": {},
   "outputs": [],
   "source": [
    "from flask import Flask, render_template"
   ]
  },
  {
   "cell_type": "code",
   "execution_count": null,
   "id": "e88cb6ad",
   "metadata": {},
   "outputs": [],
   "source": [
    "app = Flask(__name__)\n",
    "\n",
    "@app.route('/base')\n",
    "def home():\n",
    "    var = \"Returning a variable in html\"\n",
    "    return render_template(\"base.html\", var=var)\n",
    "\n",
    "if __name__ == '__main__':\n",
    "    app.run()"
   ]
  },
  {
   "cell_type": "markdown",
   "id": "3bc67b58",
   "metadata": {},
   "source": [
    "#### Using SQL Alchemy in Flask"
   ]
  },
  {
   "cell_type": "code",
   "execution_count": null,
   "id": "314fdd16",
   "metadata": {},
   "outputs": [],
   "source": [
    "from flask import Flask, render_template, request, url_for, redirect\n",
    "from flask_sqlalchemy import SQLAlchemy"
   ]
  },
  {
   "cell_type": "code",
   "execution_count": null,
   "id": "ccb4ee86",
   "metadata": {},
   "outputs": [],
   "source": [
    "app = Flask(__name__)\n",
    "app.config[\"SQLALCHEMY_DATABASE_URI\"] = \"sqlite:///myapp.sqlite\"\n",
    "app.config[\"SQLALCHEMY_TRACK_MODIFICATIONS\"] = False\n",
    "db = SQLAlchemy(app)"
   ]
  },
  {
   "cell_type": "code",
   "execution_count": null,
   "id": "bb7fb753",
   "metadata": {},
   "outputs": [],
   "source": [
    "class Myapp(db.Model):\n",
    "    cid = db.Column(db.Integer, primary_key = True)\n",
    "    c_name = db.Column(db.String(500))"
   ]
  },
  {
   "cell_type": "code",
   "execution_count": null,
   "id": "2b544dab",
   "metadata": {},
   "outputs": [],
   "source": [
    "with app.app_context():\n",
    "    db.create_all()"
   ]
  },
  {
   "cell_type": "code",
   "execution_count": null,
   "id": "2003ed55",
   "metadata": {},
   "outputs": [],
   "source": [
    "@app.route(\"/\")\n",
    "def home():\n",
    "    return {\"Message\": \"Welcome to my Flask Login Page !!\"}\n",
    "\n",
    "\n",
    "@app.route('/insert', methods=['GET', 'POST'])\n",
    "def insert():\n",
    "    #if request.method == 'POST':\n",
    "    c_name = request.form.get(\"c_name\")\n",
    "    name = Myapp(c_name=c_name)\n",
    "    db.session.add(name)\n",
    "    db.session.commit()        \n",
    "    return redirect(url_for('home1'))\n",
    "    #else:\n",
    "        #return render_template(\"dbbase.html\")\n",
    "\n",
    "@app.route('/delete/<int:cid>')\n",
    "def delete(cid):\n",
    "    name = Myapp.query.filter_by(cid = cid).first()\n",
    "    deleted_name = name.c_name\n",
    "    db.session.delete(name)\n",
    "    db.session.commit()\n",
    "    return redirect(url_for(\"home1\", x = deleted_name))\n",
    "\n",
    "@app.route(\"/dbbase\")\n",
    "def home1():\n",
    "    my_list = Myapp.query.all()\n",
    "    deleted_cname = request.args.get(\"x\")\n",
    "    return render_template(\"dbbase.html\", l1=my_list, deleted_cname = deleted_cname)\n",
    "\n",
    "if __name__ == '__main__':\n",
    "    app.run()"
   ]
  },
  {
   "cell_type": "code",
   "execution_count": null,
   "id": "6ae8a092",
   "metadata": {},
   "outputs": [],
   "source": []
  },
  {
   "cell_type": "code",
   "execution_count": null,
   "id": "221cc670",
   "metadata": {},
   "outputs": [],
   "source": []
  },
  {
   "cell_type": "code",
   "execution_count": null,
   "id": "cff346dd",
   "metadata": {},
   "outputs": [],
   "source": []
  }
 ],
 "metadata": {
  "kernelspec": {
   "display_name": "Python 3 (ipykernel)",
   "language": "python",
   "name": "python3"
  },
  "language_info": {
   "codemirror_mode": {
    "name": "ipython",
    "version": 3
   },
   "file_extension": ".py",
   "mimetype": "text/x-python",
   "name": "python",
   "nbconvert_exporter": "python",
   "pygments_lexer": "ipython3",
   "version": "3.9.7"
  }
 },
 "nbformat": 4,
 "nbformat_minor": 5
}
